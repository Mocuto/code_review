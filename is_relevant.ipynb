{
 "cells": [
  {
   "cell_type": "code",
   "execution_count": null,
   "metadata": {
    "collapsed": true
   },
   "outputs": [],
   "source": [
    "# Logic to decide if a comment is relevant ora not"
   ]
  },
  {
   "cell_type": "code",
   "execution_count": null,
   "outputs": [],
   "source": [
    "comment = 'this is a comment'\n",
    "comment_with_no_stopwords = 'a comment'\n",
    "comment_size = len(comment.split())\n",
    "\n",
    "is_relevant = True\n",
    "# Useless comments, no content after removing stopwords\n",
    "if len(comment_with_no_stopwords) == 0:\n",
    "    is_relevant = False\n",
    "\n",
    "# Useless comments, one word, no action required or unclear action\n",
    "elif comment_size == 1:\n",
    "    if comment.__contains__('nice') or comment.__contains__('pleas') \\\n",
    "        or comment.__contains__('ditto') or comment.__contains__('thank') \\\n",
    "        or comment.__contains__('ditto2') or comment.__contains__('fine') \\\n",
    "        or comment.__contains__('agew') or comment.__contains__('hahaha') \\\n",
    "        or comment.__contains__('yeh') or comment.__contains__('lol'):\n",
    "        is_relevant = False\n",
    "\n",
    "elif comment_size == 2:\n",
    "    if comment.__contains__('ack'):\n",
    "        is_relevant =False\n",
    "\n",
    "# Request to change formatting, no impact on code\n",
    "elif comment.__contains__('indent') and comment_size < 5:\n",
    "    is_relevant = False\n",
    "\n",
    "# Likely a thank you message\n",
    "elif (comment.__contains__('works for me') or comment.__contains__('sounds good') \\\n",
    "    or comment.__contains__('makes sense') or comment.__contains__('smile') \\\n",
    "    or comment.__contains__('approv')) and comment_size < 5:\n",
    "    is_relevant = False\n",
    "\n",
    "# Request to add test code, no impact on the reviewed code\n",
    "elif (comment.__contains__('test') and comment_size < 5) \\\n",
    "    or (comment.__contains__('add') and comment.__contains__('test')):\n",
    "    is_relevant = False\n",
    "\n",
    "# Request for clarification\n",
    "elif ((comment.__contains__('please explain') or comment.__contains__('explan') \\\n",
    "        or comment.__contains__('wat') or comment.__contains__('what')) and comment_size < 5) \\\n",
    "    or ((comment.__contains__('understand') or comment.__contains__('meant')) \\\n",
    "        and comment.__contains__('not sure')):\n",
    "    is_relevant = False\n",
    "\n",
    "# Refers to previous comment or external resource with unclear action point\n",
    "elif (comment.__contains__('same as') or comment.__contains__('same remark') \\\n",
    "        or comment.__contains__('said above') or comment.__contains__('do the same')) \\\n",
    "    and comment_size < 5:\n",
    "    is_relevant = False\n",
    "\n",
    "# Refers to web pages\n",
    "elif (comment.__contains__('like') or comment.__contains__('see')) \\\n",
    "    and comment.__contains__('http'):\n",
    "    is_relevant = False\n",
    "\n",
    "# Request to add comment\n",
    "elif comment.__contains__('document') or comment.__contains__('javadoc') \\\n",
    "        or comment.__contains__('comment'):\n",
    "    is_relevant =  False\n",
    "\n",
    "# Feedback about reorganizing the PR\n",
    "elif comment.__contains__('pr') and comment_size < 5:\n",
    "    is_relevant = False\n",
    "\n",
    "# Comment contains a +1 to support previous comment.\n",
    "# It may be accompanied by another word, like agree or a smile.\n",
    "# This is the reason for < 3\n",
    "elif comment.__contains__('+1') and comment_size < 3:\n",
    "    is_relevant = False\n",
    "\n",
    "# The code is ok for now\n",
    "elif comment.__contains__('for now') and comment_size < 5:\n",
    "    is_relevant = False\n",
    "\n",
    "# Answers\n",
    "elif (comment.__contains__('fixed') or comment.__contains__('thank') \\\n",
    "        or comment.__contains__('youre right')) and comment_size < 3:\n",
    "    is_relevant = False\n",
    "    \n",
    "\n",
    "if is_relevant:\n",
    "    print('The comment is relevant')\n",
    "else:\n",
    "    print('The comment is not relevant')"
   ],
   "metadata": {
    "collapsed": false,
    "pycharm": {
     "name": "#%%\n"
    }
   }
  },
  {
   "cell_type": "code",
   "execution_count": null,
   "outputs": [],
   "source": [
    "\n"
   ],
   "metadata": {
    "collapsed": false,
    "pycharm": {
     "name": "#%%\n"
    }
   }
  }
 ],
 "metadata": {
  "kernelspec": {
   "display_name": "Python 3",
   "language": "python",
   "name": "python3"
  },
  "language_info": {
   "codemirror_mode": {
    "name": "ipython",
    "version": 2
   },
   "file_extension": ".py",
   "mimetype": "text/x-python",
   "name": "python",
   "nbconvert_exporter": "python",
   "pygments_lexer": "ipython2",
   "version": "2.7.6"
  }
 },
 "nbformat": 4,
 "nbformat_minor": 0
}